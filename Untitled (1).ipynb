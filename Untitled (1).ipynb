{
 "cells": [
  {
   "cell_type": "markdown",
   "metadata": {},
   "source": [
    "# CSE 464 Term Project\n",
    "## SMS Spam Classification"
   ]
  },
  {
   "cell_type": "markdown",
   "metadata": {},
   "source": [
    "v1: Spam or ham(not spam)\n",
    "\n",
    "v2: Text message"
   ]
  },
  {
   "cell_type": "markdown",
   "metadata": {},
   "source": [
    "### Importing libraries"
   ]
  },
  {
   "cell_type": "code",
   "execution_count": 1,
   "metadata": {},
   "outputs": [],
   "source": [
    "import numpy as np\n",
    "import pandas as pd\n",
    "import matplotlib\n",
    "from matplotlib import pyplot as plt\n",
    "from matplotlib import style\n",
    "from sklearn.preprocessing import StandardScaler\n",
    "from sklearn import datasets, model_selection \n",
    "from numpy import array\n",
    "from numpy import argmax\n",
    "from sklearn.preprocessing import LabelEncoder\n",
    "from sklearn.preprocessing import OneHotEncoder\n",
    "import seaborn as sns\n",
    "import re\n",
    "import nltk\n",
    "from collections import Counter\n",
    "import string\n",
    "\n",
    "pd.options.display.max_rows = 4000\n",
    "\n",
    "import sys\n",
    "np.set_printoptions(threshold=sys.maxsize)"
   ]
  },
  {
   "cell_type": "markdown",
   "metadata": {},
   "source": [
    "### 1. Load Data and Get Some Insights"
   ]
  },
  {
   "cell_type": "code",
   "execution_count": 2,
   "metadata": {},
   "outputs": [],
   "source": [
    "train = pd.read_csv(\"spam.csv\",encoding = \"latin-1\")"
   ]
  },
  {
   "cell_type": "code",
   "execution_count": 3,
   "metadata": {},
   "outputs": [
    {
     "data": {
      "text/html": [
       "<div>\n",
       "<style scoped>\n",
       "    .dataframe tbody tr th:only-of-type {\n",
       "        vertical-align: middle;\n",
       "    }\n",
       "\n",
       "    .dataframe tbody tr th {\n",
       "        vertical-align: top;\n",
       "    }\n",
       "\n",
       "    .dataframe thead th {\n",
       "        text-align: right;\n",
       "    }\n",
       "</style>\n",
       "<table border=\"1\" class=\"dataframe\">\n",
       "  <thead>\n",
       "    <tr style=\"text-align: right;\">\n",
       "      <th></th>\n",
       "      <th>v1</th>\n",
       "      <th>v2</th>\n",
       "      <th>Unnamed: 2</th>\n",
       "      <th>Unnamed: 3</th>\n",
       "      <th>Unnamed: 4</th>\n",
       "    </tr>\n",
       "  </thead>\n",
       "  <tbody>\n",
       "    <tr>\n",
       "      <th>0</th>\n",
       "      <td>ham</td>\n",
       "      <td>Go until jurong point, crazy.. Available only ...</td>\n",
       "      <td>NaN</td>\n",
       "      <td>NaN</td>\n",
       "      <td>NaN</td>\n",
       "    </tr>\n",
       "    <tr>\n",
       "      <th>1</th>\n",
       "      <td>ham</td>\n",
       "      <td>Ok lar... Joking wif u oni...</td>\n",
       "      <td>NaN</td>\n",
       "      <td>NaN</td>\n",
       "      <td>NaN</td>\n",
       "    </tr>\n",
       "    <tr>\n",
       "      <th>2</th>\n",
       "      <td>spam</td>\n",
       "      <td>Free entry in 2 a wkly comp to win FA Cup fina...</td>\n",
       "      <td>NaN</td>\n",
       "      <td>NaN</td>\n",
       "      <td>NaN</td>\n",
       "    </tr>\n",
       "    <tr>\n",
       "      <th>3</th>\n",
       "      <td>ham</td>\n",
       "      <td>U dun say so early hor... U c already then say...</td>\n",
       "      <td>NaN</td>\n",
       "      <td>NaN</td>\n",
       "      <td>NaN</td>\n",
       "    </tr>\n",
       "    <tr>\n",
       "      <th>4</th>\n",
       "      <td>ham</td>\n",
       "      <td>Nah I don't think he goes to usf, he lives aro...</td>\n",
       "      <td>NaN</td>\n",
       "      <td>NaN</td>\n",
       "      <td>NaN</td>\n",
       "    </tr>\n",
       "    <tr>\n",
       "      <th>5</th>\n",
       "      <td>spam</td>\n",
       "      <td>FreeMsg Hey there darling it's been 3 week's n...</td>\n",
       "      <td>NaN</td>\n",
       "      <td>NaN</td>\n",
       "      <td>NaN</td>\n",
       "    </tr>\n",
       "    <tr>\n",
       "      <th>6</th>\n",
       "      <td>ham</td>\n",
       "      <td>Even my brother is not like to speak with me. ...</td>\n",
       "      <td>NaN</td>\n",
       "      <td>NaN</td>\n",
       "      <td>NaN</td>\n",
       "    </tr>\n",
       "    <tr>\n",
       "      <th>7</th>\n",
       "      <td>ham</td>\n",
       "      <td>As per your request 'Melle Melle (Oru Minnamin...</td>\n",
       "      <td>NaN</td>\n",
       "      <td>NaN</td>\n",
       "      <td>NaN</td>\n",
       "    </tr>\n",
       "    <tr>\n",
       "      <th>8</th>\n",
       "      <td>spam</td>\n",
       "      <td>WINNER!! As a valued network customer you have...</td>\n",
       "      <td>NaN</td>\n",
       "      <td>NaN</td>\n",
       "      <td>NaN</td>\n",
       "    </tr>\n",
       "    <tr>\n",
       "      <th>9</th>\n",
       "      <td>spam</td>\n",
       "      <td>Had your mobile 11 months or more? U R entitle...</td>\n",
       "      <td>NaN</td>\n",
       "      <td>NaN</td>\n",
       "      <td>NaN</td>\n",
       "    </tr>\n",
       "  </tbody>\n",
       "</table>\n",
       "</div>"
      ],
      "text/plain": [
       "     v1                                                 v2 Unnamed: 2  \\\n",
       "0   ham  Go until jurong point, crazy.. Available only ...        NaN   \n",
       "1   ham                      Ok lar... Joking wif u oni...        NaN   \n",
       "2  spam  Free entry in 2 a wkly comp to win FA Cup fina...        NaN   \n",
       "3   ham  U dun say so early hor... U c already then say...        NaN   \n",
       "4   ham  Nah I don't think he goes to usf, he lives aro...        NaN   \n",
       "5  spam  FreeMsg Hey there darling it's been 3 week's n...        NaN   \n",
       "6   ham  Even my brother is not like to speak with me. ...        NaN   \n",
       "7   ham  As per your request 'Melle Melle (Oru Minnamin...        NaN   \n",
       "8  spam  WINNER!! As a valued network customer you have...        NaN   \n",
       "9  spam  Had your mobile 11 months or more? U R entitle...        NaN   \n",
       "\n",
       "  Unnamed: 3 Unnamed: 4  \n",
       "0        NaN        NaN  \n",
       "1        NaN        NaN  \n",
       "2        NaN        NaN  \n",
       "3        NaN        NaN  \n",
       "4        NaN        NaN  \n",
       "5        NaN        NaN  \n",
       "6        NaN        NaN  \n",
       "7        NaN        NaN  \n",
       "8        NaN        NaN  \n",
       "9        NaN        NaN  "
      ]
     },
     "execution_count": 3,
     "metadata": {},
     "output_type": "execute_result"
    }
   ],
   "source": [
    "train.head(10)"
   ]
  },
  {
   "cell_type": "markdown",
   "metadata": {},
   "source": [
    "See if numbers with long digit (possibly a phone number) can be an important measure."
   ]
  },
  {
   "cell_type": "code",
   "execution_count": 4,
   "metadata": {},
   "outputs": [],
   "source": [
    "def returnNoDigits(line):\n",
    "    return 1 if (re.search( '[0-9][0-9][0-9][0-9][0-9]+' , line)) else 0"
   ]
  },
  {
   "cell_type": "code",
   "execution_count": 5,
   "metadata": {},
   "outputs": [],
   "source": [
    "# New Feature: If text contains a number with at least 5 digit or not\n",
    "# train['NoDigits'] = 1 if  condition holds, 0 else.\n",
    "train['NoDigits5'] = train['v2'].apply( returnNoDigits )"
   ]
  },
  {
   "cell_type": "code",
   "execution_count": 6,
   "metadata": {},
   "outputs": [
    {
     "data": {
      "text/plain": [
       "<matplotlib.axes._subplots.AxesSubplot at 0x1aee809fb00>"
      ]
     },
     "execution_count": 6,
     "metadata": {},
     "output_type": "execute_result"
    },
    {
     "data": {
      "image/png": "[encoded data removed]",
      "text/plain": [
       "<Figure size 432x288 with 1 Axes>"
      ]
     },
     "metadata": {
      "needs_background": "light"
     },
     "output_type": "display_data"
    }
   ],
   "source": [
    "(train.loc[train['NoDigits5']==1, 'v1']).value_counts().plot(kind='bar',title = \"Distribution of messages which have at least 5-digit-long number\")"
   ]
  },
  {
   "cell_type": "code",
   "execution_count": 7,
   "metadata": {},
   "outputs": [
    {
     "data": {
      "text/plain": [
       "<matplotlib.axes._subplots.AxesSubplot at 0x1aee7f95208>"
      ]
     },
     "execution_count": 7,
     "metadata": {},
     "output_type": "execute_result"
    },
    {
     "data": {
      "image/png": "[encoded data removed]",
      "text/plain": [
       "<Figure size 432x288 with 1 Axes>"
      ]
     },
     "metadata": {
      "needs_background": "light"
     },
     "output_type": "display_data"
    }
   ],
   "source": [
    "(train.loc[train['NoDigits5']==0, 'v1']).value_counts().plot(kind='bar',title = \"Distribution of messages which doesn't have at least 5-digit-long number\")"
   ]
  },
  {
   "cell_type": "markdown",
   "metadata": {},
   "source": [
    "See how many messages are ham and how many are spam"
   ]
  },
  {
   "cell_type": "code",
   "execution_count": 8,
   "metadata": {},
   "outputs": [
    {
     "data": {
      "text/plain": [
       "<matplotlib.axes._subplots.AxesSubplot at 0x1aee80cc1d0>"
      ]
     },
     "execution_count": 8,
     "metadata": {},
     "output_type": "execute_result"
    },
    {
     "data": {
      "image/png": "[encoded data removed]",
      "text/plain": [
       "<Figure size 432x288 with 1 Axes>"
      ]
     },
     "metadata": {
      "needs_background": "light"
     },
     "output_type": "display_data"
    }
   ],
   "source": [
    "train['v1'].value_counts().plot(kind='bar')"
   ]
  },
  {
   "cell_type": "code",
   "execution_count": 9,
   "metadata": {},
   "outputs": [],
   "source": [
    "# New feature: text length\n",
    "train['length'] = train['v2'].apply(len)"
   ]
  },
  {
   "cell_type": "code",
   "execution_count": 10,
   "metadata": {},
   "outputs": [
    {
     "data": {
      "text/plain": [
       "array([<matplotlib.axes._subplots.AxesSubplot object at 0x000001AEE812F470>,\n",
       "       <matplotlib.axes._subplots.AxesSubplot object at 0x000001AEE8164D68>],\n",
       "      dtype=object)"
      ]
     },
     "execution_count": 10,
     "metadata": {},
     "output_type": "execute_result"
    },
    {
     "data": {
      "image/png": "[encoded data removed]",
      "text/plain": [
       "<Figure size 792x360 with 2 Axes>"
      ]
     },
     "metadata": {
      "needs_background": "light"
     },
     "output_type": "display_data"
    }
   ],
   "source": [
    "train.hist(column='length', by='v1', bins=70,figsize=(11,5))"
   ]
  },
  {
   "cell_type": "markdown",
   "metadata": {},
   "source": [
    "If the length of the message is around 150, it is more likely to be a spam message."
   ]
  },
  {
   "cell_type": "markdown",
   "metadata": {},
   "source": [
    "Let's see which words are mostly used in ham and spam messages."
   ]
  },
  {
   "cell_type": "code",
   "execution_count": 11,
   "metadata": {},
   "outputs": [
    {
     "data": {
      "text/html": [
       "<div>\n",
       "<style scoped>\n",
       "    .dataframe tbody tr th:only-of-type {\n",
       "        vertical-align: middle;\n",
       "    }\n",
       "\n",
       "    .dataframe tbody tr th {\n",
       "        vertical-align: top;\n",
       "    }\n",
       "\n",
       "    .dataframe thead th {\n",
       "        text-align: right;\n",
       "    }\n",
       "</style>\n",
       "<table border=\"1\" class=\"dataframe\">\n",
       "  <thead>\n",
       "    <tr style=\"text-align: right;\">\n",
       "      <th></th>\n",
       "      <th>Spam Frequency</th>\n",
       "      <th>Ham Frequency</th>\n",
       "    </tr>\n",
       "    <tr>\n",
       "      <th>Word</th>\n",
       "      <th></th>\n",
       "      <th></th>\n",
       "    </tr>\n",
       "  </thead>\n",
       "  <tbody>\n",
       "    <tr>\n",
       "      <th>call</th>\n",
       "      <td>342</td>\n",
       "      <td>215</td>\n",
       "    </tr>\n",
       "    <tr>\n",
       "      <th>2</th>\n",
       "      <td>169</td>\n",
       "      <td>284</td>\n",
       "    </tr>\n",
       "    <tr>\n",
       "      <th>ur</th>\n",
       "      <td>144</td>\n",
       "      <td>235</td>\n",
       "    </tr>\n",
       "    <tr>\n",
       "      <th>!</th>\n",
       "      <td>135</td>\n",
       "      <td>152</td>\n",
       "    </tr>\n",
       "    <tr>\n",
       "      <th>.</th>\n",
       "      <td>127</td>\n",
       "      <td>959</td>\n",
       "    </tr>\n",
       "    <tr>\n",
       "      <th>u</th>\n",
       "      <td>117</td>\n",
       "      <td>874</td>\n",
       "    </tr>\n",
       "    <tr>\n",
       "      <th>text</th>\n",
       "      <td>112</td>\n",
       "      <td>63</td>\n",
       "    </tr>\n",
       "    <tr>\n",
       "      <th>4</th>\n",
       "      <td>93</td>\n",
       "      <td>156</td>\n",
       "    </tr>\n",
       "    <tr>\n",
       "      <th>get</th>\n",
       "      <td>82</td>\n",
       "      <td>293</td>\n",
       "    </tr>\n",
       "    <tr>\n",
       "      <th>new</th>\n",
       "      <td>69</td>\n",
       "      <td>67</td>\n",
       "    </tr>\n",
       "    <tr>\n",
       "      <th>send</th>\n",
       "      <td>65</td>\n",
       "      <td>121</td>\n",
       "    </tr>\n",
       "    <tr>\n",
       "      <th>please</th>\n",
       "      <td>52</td>\n",
       "      <td>65</td>\n",
       "    </tr>\n",
       "    <tr>\n",
       "      <th>'</th>\n",
       "      <td>47</td>\n",
       "      <td>1397</td>\n",
       "    </tr>\n",
       "    <tr>\n",
       "      <th>phone</th>\n",
       "      <td>34</td>\n",
       "      <td>63</td>\n",
       "    </tr>\n",
       "    <tr>\n",
       "      <th>want</th>\n",
       "      <td>29</td>\n",
       "      <td>153</td>\n",
       "    </tr>\n",
       "    <tr>\n",
       "      <th>?</th>\n",
       "      <td>27</td>\n",
       "      <td>405</td>\n",
       "    </tr>\n",
       "    <tr>\n",
       "      <th>go</th>\n",
       "      <td>27</td>\n",
       "      <td>235</td>\n",
       "    </tr>\n",
       "    <tr>\n",
       "      <th>,</th>\n",
       "      <td>24</td>\n",
       "      <td>245</td>\n",
       "    </tr>\n",
       "    <tr>\n",
       "      <th>r</th>\n",
       "      <td>22</td>\n",
       "      <td>131</td>\n",
       "    </tr>\n",
       "    <tr>\n",
       "      <th>know</th>\n",
       "      <td>22</td>\n",
       "      <td>208</td>\n",
       "    </tr>\n",
       "    <tr>\n",
       "      <th>back</th>\n",
       "      <td>20</td>\n",
       "      <td>101</td>\n",
       "    </tr>\n",
       "    <tr>\n",
       "      <th>see</th>\n",
       "      <td>18</td>\n",
       "      <td>126</td>\n",
       "    </tr>\n",
       "  </tbody>\n",
       "</table>\n",
       "</div>"
      ],
      "text/plain": [
       "        Spam Frequency  Ham Frequency\n",
       "Word                                 \n",
       "call               342            215\n",
       "2                  169            284\n",
       "ur                 144            235\n",
       "!                  135            152\n",
       ".                  127            959\n",
       "u                  117            874\n",
       "text               112             63\n",
       "4                   93            156\n",
       "get                 82            293\n",
       "new                 69             67\n",
       "send                65            121\n",
       "please              52             65\n",
       "'                   47           1397\n",
       "phone               34             63\n",
       "want                29            153\n",
       "?                   27            405\n",
       "go                  27            235\n",
       ",                   24            245\n",
       "r                   22            131\n",
       "know                22            208\n",
       "back                20            101\n",
       "see                 18            126"
      ]
     },
     "execution_count": 11,
     "metadata": {},
     "output_type": "execute_result"
    }
   ],
   "source": [
    "spam = train[ train['v1'] == 'spam']\n",
    "ham = train[ train['v1'] == 'ham']\n",
    "\n",
    "top_N = 100\n",
    "stopwords = nltk.corpus.stopwords.words('english')\n",
    "# RegEx for stopwords\n",
    "RE_stopwords = r'\\b(?:{})\\b'.format('|'.join(stopwords))\n",
    "# replace '|'-->' ' and drop all stopwords\n",
    "\n",
    "words = (spam.v2\n",
    "           .str.lower()\n",
    "           .replace([r'\\|', RE_stopwords], [' ', ''], regex=True)\n",
    "           .str.cat(sep=' ')\n",
    "           .split()\n",
    ")\n",
    "\n",
    "# generate DF out of Counter\n",
    "rslt = pd.DataFrame(Counter(words).most_common(top_N),\n",
    "                    columns=['Word', 'Spam Frequency']).set_index('Word')\n",
    "#print(\"Mostly used spam words\")\n",
    "#print(rslt)\n",
    "\n",
    "words = (ham.v2\n",
    "           .str.lower()\n",
    "           .replace([r'\\|', RE_stopwords], [' ', ''], regex=True)\n",
    "           .str.cat(sep=' ')\n",
    "           .split()\n",
    ")\n",
    "\n",
    "# generate DF out of Counter\n",
    "rslt2 = pd.DataFrame(Counter(words).most_common(top_N),\n",
    "                    columns=['Word', 'Ham Frequency']).set_index('Word')\n",
    "#print(\"\\nMostly used ham words\")\n",
    "#print(rslt2)\n",
    "\n",
    "pd.merge(rslt,rslt2, on='Word')\n",
    "# plot\n",
    "#rslt.plot.bar(rot=0, figsize=(16,10), width=0.8)"
   ]
  },
  {
   "cell_type": "markdown",
   "metadata": {},
   "source": [
    "Add new feature: Number of punctuation in message."
   ]
  },
  {
   "cell_type": "code",
   "execution_count": 12,
   "metadata": {},
   "outputs": [
    {
     "data": {
      "text/html": [
       "<div>\n",
       "<style scoped>\n",
       "    .dataframe tbody tr th:only-of-type {\n",
       "        vertical-align: middle;\n",
       "    }\n",
       "\n",
       "    .dataframe tbody tr th {\n",
       "        vertical-align: top;\n",
       "    }\n",
       "\n",
       "    .dataframe thead th {\n",
       "        text-align: right;\n",
       "    }\n",
       "</style>\n",
       "<table border=\"1\" class=\"dataframe\">\n",
       "  <thead>\n",
       "    <tr style=\"text-align: right;\">\n",
       "      <th></th>\n",
       "      <th>v1</th>\n",
       "      <th>v2</th>\n",
       "      <th>Unnamed: 2</th>\n",
       "      <th>Unnamed: 3</th>\n",
       "      <th>Unnamed: 4</th>\n",
       "      <th>NoDigits5</th>\n",
       "      <th>length</th>\n",
       "      <th>NoOfPunc</th>\n",
       "    </tr>\n",
       "  </thead>\n",
       "  <tbody>\n",
       "    <tr>\n",
       "      <th>0</th>\n",
       "      <td>ham</td>\n",
       "      <td>Go until jurong point, crazy.. Available only ...</td>\n",
       "      <td>NaN</td>\n",
       "      <td>NaN</td>\n",
       "      <td>NaN</td>\n",
       "      <td>0</td>\n",
       "      <td>111</td>\n",
       "      <td>2</td>\n",
       "    </tr>\n",
       "    <tr>\n",
       "      <th>1</th>\n",
       "      <td>ham</td>\n",
       "      <td>Ok lar... Joking wif u oni...</td>\n",
       "      <td>NaN</td>\n",
       "      <td>NaN</td>\n",
       "      <td>NaN</td>\n",
       "      <td>0</td>\n",
       "      <td>29</td>\n",
       "      <td>2</td>\n",
       "    </tr>\n",
       "    <tr>\n",
       "      <th>2</th>\n",
       "      <td>spam</td>\n",
       "      <td>Free entry in 2 a wkly comp to win FA Cup fina...</td>\n",
       "      <td>NaN</td>\n",
       "      <td>NaN</td>\n",
       "      <td>NaN</td>\n",
       "      <td>1</td>\n",
       "      <td>155</td>\n",
       "      <td>7</td>\n",
       "    </tr>\n",
       "    <tr>\n",
       "      <th>3</th>\n",
       "      <td>ham</td>\n",
       "      <td>U dun say so early hor... U c already then say...</td>\n",
       "      <td>NaN</td>\n",
       "      <td>NaN</td>\n",
       "      <td>NaN</td>\n",
       "      <td>0</td>\n",
       "      <td>49</td>\n",
       "      <td>2</td>\n",
       "    </tr>\n",
       "    <tr>\n",
       "      <th>4</th>\n",
       "      <td>ham</td>\n",
       "      <td>Nah I don't think he goes to usf, he lives aro...</td>\n",
       "      <td>NaN</td>\n",
       "      <td>NaN</td>\n",
       "      <td>NaN</td>\n",
       "      <td>0</td>\n",
       "      <td>61</td>\n",
       "      <td>3</td>\n",
       "    </tr>\n",
       "  </tbody>\n",
       "</table>\n",
       "</div>"
      ],
      "text/plain": [
       "     v1                                                 v2 Unnamed: 2  \\\n",
       "0   ham  Go until jurong point, crazy.. Available only ...        NaN   \n",
       "1   ham                      Ok lar... Joking wif u oni...        NaN   \n",
       "2  spam  Free entry in 2 a wkly comp to win FA Cup fina...        NaN   \n",
       "3   ham  U dun say so early hor... U c already then say...        NaN   \n",
       "4   ham  Nah I don't think he goes to usf, he lives aro...        NaN   \n",
       "\n",
       "  Unnamed: 3 Unnamed: 4  NoDigits5  length  NoOfPunc  \n",
       "0        NaN        NaN          0     111         2  \n",
       "1        NaN        NaN          0      29         2  \n",
       "2        NaN        NaN          1     155         7  \n",
       "3        NaN        NaN          0      49         2  \n",
       "4        NaN        NaN          0      61         3  "
      ]
     },
     "execution_count": 12,
     "metadata": {},
     "output_type": "execute_result"
    }
   ],
   "source": [
    "train[\"NoOfPunc\"] = train[\"v2\"].str.count(\"'|!|\\\"|-|&|#|$|\\(|\\)|:|;|@|^|\\{|\\}|>|<|~\", re.I)\n",
    "train.head()"
   ]
  },
  {
   "cell_type": "code",
   "execution_count": 13,
   "metadata": {},
   "outputs": [
    {
     "data": {
      "text/plain": [
       "array([<matplotlib.axes._subplots.AxesSubplot object at 0x000001AEE812F9B0>,\n",
       "       <matplotlib.axes._subplots.AxesSubplot object at 0x000001AEE8343828>],\n",
       "      dtype=object)"
      ]
     },
     "execution_count": 13,
     "metadata": {},
     "output_type": "execute_result"
    },
    {
     "data": {
      "image/png": "[encoded data removed]",
      "text/plain": [
       "<Figure size 792x360 with 2 Axes>"
      ]
     },
     "metadata": {
      "needs_background": "light"
     },
     "output_type": "display_data"
    }
   ],
   "source": [
    "train.hist(column='NoOfPunc', by='v1', bins=50,figsize=(11,5))"
   ]
  },
  {
   "cell_type": "markdown",
   "metadata": {},
   "source": [
    "Find number of words in messages and see if that would be a new feature."
   ]
  },
  {
   "cell_type": "code",
   "execution_count": 14,
   "metadata": {},
   "outputs": [],
   "source": [
    "def NumberOfWordsFinder(txt):\n",
    "    return len(txt.split())"
   ]
  },
  {
   "cell_type": "code",
   "execution_count": 15,
   "metadata": {},
   "outputs": [
    {
     "data": {
      "text/html": [
       "<div>\n",
       "<style scoped>\n",
       "    .dataframe tbody tr th:only-of-type {\n",
       "        vertical-align: middle;\n",
       "    }\n",
       "\n",
       "    .dataframe tbody tr th {\n",
       "        vertical-align: top;\n",
       "    }\n",
       "\n",
       "    .dataframe thead th {\n",
       "        text-align: right;\n",
       "    }\n",
       "</style>\n",
       "<table border=\"1\" class=\"dataframe\">\n",
       "  <thead>\n",
       "    <tr style=\"text-align: right;\">\n",
       "      <th></th>\n",
       "      <th>v1</th>\n",
       "      <th>v2</th>\n",
       "      <th>Unnamed: 2</th>\n",
       "      <th>Unnamed: 3</th>\n",
       "      <th>Unnamed: 4</th>\n",
       "      <th>NoDigits5</th>\n",
       "      <th>length</th>\n",
       "      <th>NoOfPunc</th>\n",
       "      <th>NumberOfWords</th>\n",
       "    </tr>\n",
       "  </thead>\n",
       "  <tbody>\n",
       "    <tr>\n",
       "      <th>0</th>\n",
       "      <td>ham</td>\n",
       "      <td>Go until jurong point, crazy.. Available only ...</td>\n",
       "      <td>NaN</td>\n",
       "      <td>NaN</td>\n",
       "      <td>NaN</td>\n",
       "      <td>0</td>\n",
       "      <td>111</td>\n",
       "      <td>2</td>\n",
       "      <td>20</td>\n",
       "    </tr>\n",
       "    <tr>\n",
       "      <th>1</th>\n",
       "      <td>ham</td>\n",
       "      <td>Ok lar... Joking wif u oni...</td>\n",
       "      <td>NaN</td>\n",
       "      <td>NaN</td>\n",
       "      <td>NaN</td>\n",
       "      <td>0</td>\n",
       "      <td>29</td>\n",
       "      <td>2</td>\n",
       "      <td>6</td>\n",
       "    </tr>\n",
       "    <tr>\n",
       "      <th>2</th>\n",
       "      <td>spam</td>\n",
       "      <td>Free entry in 2 a wkly comp to win FA Cup fina...</td>\n",
       "      <td>NaN</td>\n",
       "      <td>NaN</td>\n",
       "      <td>NaN</td>\n",
       "      <td>1</td>\n",
       "      <td>155</td>\n",
       "      <td>7</td>\n",
       "      <td>28</td>\n",
       "    </tr>\n",
       "    <tr>\n",
       "      <th>3</th>\n",
       "      <td>ham</td>\n",
       "      <td>U dun say so early hor... U c already then say...</td>\n",
       "      <td>NaN</td>\n",
       "      <td>NaN</td>\n",
       "      <td>NaN</td>\n",
       "      <td>0</td>\n",
       "      <td>49</td>\n",
       "      <td>2</td>\n",
       "      <td>11</td>\n",
       "    </tr>\n",
       "    <tr>\n",
       "      <th>4</th>\n",
       "      <td>ham</td>\n",
       "      <td>Nah I don't think he goes to usf, he lives aro...</td>\n",
       "      <td>NaN</td>\n",
       "      <td>NaN</td>\n",
       "      <td>NaN</td>\n",
       "      <td>0</td>\n",
       "      <td>61</td>\n",
       "      <td>3</td>\n",
       "      <td>13</td>\n",
       "    </tr>\n",
       "  </tbody>\n",
       "</table>\n",
       "</div>"
      ],
      "text/plain": [
       "     v1                                                 v2 Unnamed: 2  \\\n",
       "0   ham  Go until jurong point, crazy.. Available only ...        NaN   \n",
       "1   ham                      Ok lar... Joking wif u oni...        NaN   \n",
       "2  spam  Free entry in 2 a wkly comp to win FA Cup fina...        NaN   \n",
       "3   ham  U dun say so early hor... U c already then say...        NaN   \n",
       "4   ham  Nah I don't think he goes to usf, he lives aro...        NaN   \n",
       "\n",
       "  Unnamed: 3 Unnamed: 4  NoDigits5  length  NoOfPunc  NumberOfWords  \n",
       "0        NaN        NaN          0     111         2             20  \n",
       "1        NaN        NaN          0      29         2              6  \n",
       "2        NaN        NaN          1     155         7             28  \n",
       "3        NaN        NaN          0      49         2             11  \n",
       "4        NaN        NaN          0      61         3             13  "
      ]
     },
     "execution_count": 15,
     "metadata": {},
     "output_type": "execute_result"
    }
   ],
   "source": [
    "train[\"NumberOfWords\"] = train[\"v2\"].apply(NumberOfWordsFinder)\n",
    "train.head()"
   ]
  },
  {
   "cell_type": "code",
   "execution_count": 16,
   "metadata": {},
   "outputs": [
    {
     "data": {
      "text/plain": [
       "array([<matplotlib.axes._subplots.AxesSubplot object at 0x000001AEE83B4160>,\n",
       "       <matplotlib.axes._subplots.AxesSubplot object at 0x000001AEE8889320>],\n",
       "      dtype=object)"
      ]
     },
     "execution_count": 16,
     "metadata": {},
     "output_type": "execute_result"
    },
    {
     "data": {
      "image/png": "[encoded data removed]",
      "text/plain": [
       "<Figure size 792x360 with 2 Axes>"
      ]
     },
     "metadata": {
      "needs_background": "light"
     },
     "output_type": "display_data"
    }
   ],
   "source": [
    "train.hist(column='NumberOfWords', by='v1', bins=50,figsize=(11,5))"
   ]
  },
  {
   "cell_type": "markdown",
   "metadata": {},
   "source": [
    "This feature may be helpful so keep this."
   ]
  },
  {
   "cell_type": "markdown",
   "metadata": {},
   "source": [
    "Let's see if slang words and abbreviations are affective."
   ]
  },
  {
   "cell_type": "code",
   "execution_count": 17,
   "metadata": {},
   "outputs": [],
   "source": [
    "textWords = ['pls', 'u', 'k', 'ur', 'rofl', 'smh', 'lol', 'ikr', 'ofc', 'dat', 'y', 'xoxo', 'msg', 'n', '4u']"
   ]
  },
  {
   "cell_type": "code",
   "execution_count": 18,
   "metadata": {},
   "outputs": [],
   "source": [
    "def findWholeWord(w):\n",
    "    return re.compile(r'\\b({0})\\b'.format(w), flags=re.IGNORECASE).search"
   ]
  },
  {
   "cell_type": "code",
   "execution_count": 19,
   "metadata": {},
   "outputs": [],
   "source": [
    "def applyFinder(text):\n",
    "    for w in textWords:\n",
    "        flag = 0\n",
    "        if findWholeWord(w)(text) != None:\n",
    "            flag = 1\n",
    "            break\n",
    "    return flag"
   ]
  },
  {
   "cell_type": "code",
   "execution_count": 20,
   "metadata": {},
   "outputs": [],
   "source": [
    "train['SlangWords'] = train['v2'].apply(applyFinder)"
   ]
  },
  {
   "cell_type": "code",
   "execution_count": 21,
   "metadata": {},
   "outputs": [
    {
     "data": {
      "text/html": [
       "<div>\n",
       "<style scoped>\n",
       "    .dataframe tbody tr th:only-of-type {\n",
       "        vertical-align: middle;\n",
       "    }\n",
       "\n",
       "    .dataframe tbody tr th {\n",
       "        vertical-align: top;\n",
       "    }\n",
       "\n",
       "    .dataframe thead th {\n",
       "        text-align: right;\n",
       "    }\n",
       "</style>\n",
       "<table border=\"1\" class=\"dataframe\">\n",
       "  <thead>\n",
       "    <tr style=\"text-align: right;\">\n",
       "      <th></th>\n",
       "      <th>v1</th>\n",
       "      <th>v2</th>\n",
       "      <th>Unnamed: 2</th>\n",
       "      <th>Unnamed: 3</th>\n",
       "      <th>Unnamed: 4</th>\n",
       "      <th>NoDigits5</th>\n",
       "      <th>length</th>\n",
       "      <th>NoOfPunc</th>\n",
       "      <th>NumberOfWords</th>\n",
       "      <th>SlangWords</th>\n",
       "    </tr>\n",
       "  </thead>\n",
       "  <tbody>\n",
       "    <tr>\n",
       "      <th>0</th>\n",
       "      <td>ham</td>\n",
       "      <td>Go until jurong point, crazy.. Available only ...</td>\n",
       "      <td>NaN</td>\n",
       "      <td>NaN</td>\n",
       "      <td>NaN</td>\n",
       "      <td>0</td>\n",
       "      <td>111</td>\n",
       "      <td>2</td>\n",
       "      <td>20</td>\n",
       "      <td>1</td>\n",
       "    </tr>\n",
       "    <tr>\n",
       "      <th>1</th>\n",
       "      <td>ham</td>\n",
       "      <td>Ok lar... Joking wif u oni...</td>\n",
       "      <td>NaN</td>\n",
       "      <td>NaN</td>\n",
       "      <td>NaN</td>\n",
       "      <td>0</td>\n",
       "      <td>29</td>\n",
       "      <td>2</td>\n",
       "      <td>6</td>\n",
       "      <td>1</td>\n",
       "    </tr>\n",
       "    <tr>\n",
       "      <th>2</th>\n",
       "      <td>spam</td>\n",
       "      <td>Free entry in 2 a wkly comp to win FA Cup fina...</td>\n",
       "      <td>NaN</td>\n",
       "      <td>NaN</td>\n",
       "      <td>NaN</td>\n",
       "      <td>1</td>\n",
       "      <td>155</td>\n",
       "      <td>7</td>\n",
       "      <td>28</td>\n",
       "      <td>0</td>\n",
       "    </tr>\n",
       "    <tr>\n",
       "      <th>3</th>\n",
       "      <td>ham</td>\n",
       "      <td>U dun say so early hor... U c already then say...</td>\n",
       "      <td>NaN</td>\n",
       "      <td>NaN</td>\n",
       "      <td>NaN</td>\n",
       "      <td>0</td>\n",
       "      <td>49</td>\n",
       "      <td>2</td>\n",
       "      <td>11</td>\n",
       "      <td>1</td>\n",
       "    </tr>\n",
       "    <tr>\n",
       "      <th>4</th>\n",
       "      <td>ham</td>\n",
       "      <td>Nah I don't think he goes to usf, he lives aro...</td>\n",
       "      <td>NaN</td>\n",
       "      <td>NaN</td>\n",
       "      <td>NaN</td>\n",
       "      <td>0</td>\n",
       "      <td>61</td>\n",
       "      <td>3</td>\n",
       "      <td>13</td>\n",
       "      <td>0</td>\n",
       "    </tr>\n",
       "  </tbody>\n",
       "</table>\n",
       "</div>"
      ],
      "text/plain": [
       "     v1                                                 v2 Unnamed: 2  \\\n",
       "0   ham  Go until jurong point, crazy.. Available only ...        NaN   \n",
       "1   ham                      Ok lar... Joking wif u oni...        NaN   \n",
       "2  spam  Free entry in 2 a wkly comp to win FA Cup fina...        NaN   \n",
       "3   ham  U dun say so early hor... U c already then say...        NaN   \n",
       "4   ham  Nah I don't think he goes to usf, he lives aro...        NaN   \n",
       "\n",
       "  Unnamed: 3 Unnamed: 4  NoDigits5  length  NoOfPunc  NumberOfWords  \\\n",
       "0        NaN        NaN          0     111         2             20   \n",
       "1        NaN        NaN          0      29         2              6   \n",
       "2        NaN        NaN          1     155         7             28   \n",
       "3        NaN        NaN          0      49         2             11   \n",
       "4        NaN        NaN          0      61         3             13   \n",
       "\n",
       "   SlangWords  \n",
       "0           1  \n",
       "1           1  \n",
       "2           0  \n",
       "3           1  \n",
       "4           0  "
      ]
     },
     "execution_count": 21,
     "metadata": {},
     "output_type": "execute_result"
    }
   ],
   "source": [
    "train.head()"
   ]
  },
  {
   "cell_type": "markdown",
   "metadata": {},
   "source": [
    "### 2. Data Preprocessing"
   ]
  },
  {
   "cell_type": "markdown",
   "metadata": {},
   "source": [
    "### Deal with missing data"
   ]
  },
  {
   "cell_type": "code",
   "execution_count": 22,
   "metadata": {},
   "outputs": [
    {
     "name": "stdout",
     "output_type": "stream",
     "text": [
      "<class 'pandas.core.frame.DataFrame'>\n",
      "RangeIndex: 5572 entries, 0 to 5571\n",
      "Data columns (total 10 columns):\n",
      "v1               5572 non-null object\n",
      "v2               5572 non-null object\n",
      "Unnamed: 2       50 non-null object\n",
      "Unnamed: 3       12 non-null object\n",
      "Unnamed: 4       6 non-null object\n",
      "NoDigits5        5572 non-null int64\n",
      "length           5572 non-null int64\n",
      "NoOfPunc         5572 non-null int64\n",
      "NumberOfWords    5572 non-null int64\n",
      "SlangWords       5572 non-null int64\n",
      "dtypes: int64(5), object(5)\n",
      "memory usage: 435.4+ KB\n"
     ]
    }
   ],
   "source": [
    "# how many missing values there are in the data set? check the data set again.\n",
    "train.info()"
   ]
  },
  {
   "cell_type": "code",
   "execution_count": 23,
   "metadata": {},
   "outputs": [],
   "source": [
    "#Drop the columns 3,4 and 5\n",
    "cols = [2,3,4]\n",
    "train.drop(train.columns[cols],axis=1,inplace=True)"
   ]
  },
  {
   "cell_type": "code",
   "execution_count": 24,
   "metadata": {},
   "outputs": [
    {
     "data": {
      "text/html": [
       "<div>\n",
       "<style scoped>\n",
       "    .dataframe tbody tr th:only-of-type {\n",
       "        vertical-align: middle;\n",
       "    }\n",
       "\n",
       "    .dataframe tbody tr th {\n",
       "        vertical-align: top;\n",
       "    }\n",
       "\n",
       "    .dataframe thead tr th {\n",
       "        text-align: left;\n",
       "    }\n",
       "\n",
       "    .dataframe thead tr:last-of-type th {\n",
       "        text-align: right;\n",
       "    }\n",
       "</style>\n",
       "<table border=\"1\" class=\"dataframe\">\n",
       "  <thead>\n",
       "    <tr>\n",
       "      <th></th>\n",
       "      <th colspan=\"8\" halign=\"left\">NoDigits5</th>\n",
       "      <th colspan=\"2\" halign=\"left\">length</th>\n",
       "      <th>...</th>\n",
       "      <th colspan=\"2\" halign=\"left\">NumberOfWords</th>\n",
       "      <th colspan=\"8\" halign=\"left\">SlangWords</th>\n",
       "    </tr>\n",
       "    <tr>\n",
       "      <th></th>\n",
       "      <th>count</th>\n",
       "      <th>mean</th>\n",
       "      <th>std</th>\n",
       "      <th>min</th>\n",
       "      <th>25%</th>\n",
       "      <th>50%</th>\n",
       "      <th>75%</th>\n",
       "      <th>max</th>\n",
       "      <th>count</th>\n",
       "      <th>mean</th>\n",
       "      <th>...</th>\n",
       "      <th>75%</th>\n",
       "      <th>max</th>\n",
       "      <th>count</th>\n",
       "      <th>mean</th>\n",
       "      <th>std</th>\n",
       "      <th>min</th>\n",
       "      <th>25%</th>\n",
       "      <th>50%</th>\n",
       "      <th>75%</th>\n",
       "      <th>max</th>\n",
       "    </tr>\n",
       "    <tr>\n",
       "      <th>v1</th>\n",
       "      <th></th>\n",
       "      <th></th>\n",
       "      <th></th>\n",
       "      <th></th>\n",
       "      <th></th>\n",
       "      <th></th>\n",
       "      <th></th>\n",
       "      <th></th>\n",
       "      <th></th>\n",
       "      <th></th>\n",
       "      <th></th>\n",
       "      <th></th>\n",
       "      <th></th>\n",
       "      <th></th>\n",
       "      <th></th>\n",
       "      <th></th>\n",
       "      <th></th>\n",
       "      <th></th>\n",
       "      <th></th>\n",
       "      <th></th>\n",
       "      <th></th>\n",
       "    </tr>\n",
       "  </thead>\n",
       "  <tbody>\n",
       "    <tr>\n",
       "      <th>ham</th>\n",
       "      <td>4825.0</td>\n",
       "      <td>0.000622</td>\n",
       "      <td>0.024930</td>\n",
       "      <td>0.0</td>\n",
       "      <td>0.0</td>\n",
       "      <td>0.0</td>\n",
       "      <td>0.0</td>\n",
       "      <td>1.0</td>\n",
       "      <td>4825.0</td>\n",
       "      <td>71.023627</td>\n",
       "      <td>...</td>\n",
       "      <td>19.0</td>\n",
       "      <td>171.0</td>\n",
       "      <td>4825.0</td>\n",
       "      <td>0.242280</td>\n",
       "      <td>0.428507</td>\n",
       "      <td>0.0</td>\n",
       "      <td>0.0</td>\n",
       "      <td>0.0</td>\n",
       "      <td>0.0</td>\n",
       "      <td>1.0</td>\n",
       "    </tr>\n",
       "    <tr>\n",
       "      <th>spam</th>\n",
       "      <td>747.0</td>\n",
       "      <td>0.781794</td>\n",
       "      <td>0.413305</td>\n",
       "      <td>0.0</td>\n",
       "      <td>1.0</td>\n",
       "      <td>1.0</td>\n",
       "      <td>1.0</td>\n",
       "      <td>1.0</td>\n",
       "      <td>747.0</td>\n",
       "      <td>138.866131</td>\n",
       "      <td>...</td>\n",
       "      <td>28.0</td>\n",
       "      <td>35.0</td>\n",
       "      <td>747.0</td>\n",
       "      <td>0.364123</td>\n",
       "      <td>0.481506</td>\n",
       "      <td>0.0</td>\n",
       "      <td>0.0</td>\n",
       "      <td>0.0</td>\n",
       "      <td>1.0</td>\n",
       "      <td>1.0</td>\n",
       "    </tr>\n",
       "  </tbody>\n",
       "</table>\n",
       "<p>2 rows × 40 columns</p>\n",
       "</div>"
      ],
      "text/plain": [
       "     NoDigits5                                               length  \\\n",
       "         count      mean       std  min  25%  50%  75%  max   count   \n",
       "v1                                                                    \n",
       "ham     4825.0  0.000622  0.024930  0.0  0.0  0.0  0.0  1.0  4825.0   \n",
       "spam     747.0  0.781794  0.413305  0.0  1.0  1.0  1.0  1.0   747.0   \n",
       "\n",
       "                  ... NumberOfWords        SlangWords                      \\\n",
       "            mean  ...           75%    max      count      mean       std   \n",
       "v1                ...                                                       \n",
       "ham    71.023627  ...          19.0  171.0     4825.0  0.242280  0.428507   \n",
       "spam  138.866131  ...          28.0   35.0      747.0  0.364123  0.481506   \n",
       "\n",
       "                               \n",
       "      min  25%  50%  75%  max  \n",
       "v1                             \n",
       "ham   0.0  0.0  0.0  0.0  1.0  \n",
       "spam  0.0  0.0  0.0  1.0  1.0  \n",
       "\n",
       "[2 rows x 40 columns]"
      ]
     },
     "execution_count": 24,
     "metadata": {},
     "output_type": "execute_result"
    }
   ],
   "source": [
    "train.groupby('v1').describe()"
   ]
  },
  {
   "cell_type": "code",
   "execution_count": 25,
   "metadata": {},
   "outputs": [
    {
     "name": "stdout",
     "output_type": "stream",
     "text": [
      "<class 'pandas.core.frame.DataFrame'>\n",
      "RangeIndex: 5572 entries, 0 to 5571\n",
      "Data columns (total 7 columns):\n",
      "v1               5572 non-null object\n",
      "v2               5572 non-null object\n",
      "NoDigits5        5572 non-null int64\n",
      "length           5572 non-null int64\n",
      "NoOfPunc         5572 non-null int64\n",
      "NumberOfWords    5572 non-null int64\n",
      "SlangWords       5572 non-null int64\n",
      "dtypes: int64(5), object(2)\n",
      "memory usage: 304.8+ KB\n"
     ]
    }
   ],
   "source": [
    "train.info()"
   ]
  },
  {
   "cell_type": "code",
   "execution_count": 26,
   "metadata": {},
   "outputs": [],
   "source": [
    "train['v1'] = train['v1'].replace(['ham','spam'],[0,1])"
   ]
  },
  {
   "cell_type": "code",
   "execution_count": 27,
   "metadata": {},
   "outputs": [
    {
     "data": {
      "text/html": [
       "<div>\n",
       "<style scoped>\n",
       "    .dataframe tbody tr th:only-of-type {\n",
       "        vertical-align: middle;\n",
       "    }\n",
       "\n",
       "    .dataframe tbody tr th {\n",
       "        vertical-align: top;\n",
       "    }\n",
       "\n",
       "    .dataframe thead th {\n",
       "        text-align: right;\n",
       "    }\n",
       "</style>\n",
       "<table border=\"1\" class=\"dataframe\">\n",
       "  <thead>\n",
       "    <tr style=\"text-align: right;\">\n",
       "      <th></th>\n",
       "      <th>v1</th>\n",
       "      <th>v2</th>\n",
       "      <th>NoDigits5</th>\n",
       "      <th>length</th>\n",
       "      <th>NoOfPunc</th>\n",
       "      <th>NumberOfWords</th>\n",
       "      <th>SlangWords</th>\n",
       "    </tr>\n",
       "  </thead>\n",
       "  <tbody>\n",
       "    <tr>\n",
       "      <th>0</th>\n",
       "      <td>0</td>\n",
       "      <td>go until jurong point, crazy.. available only ...</td>\n",
       "      <td>0</td>\n",
       "      <td>111</td>\n",
       "      <td>2</td>\n",
       "      <td>20</td>\n",
       "      <td>1</td>\n",
       "    </tr>\n",
       "    <tr>\n",
       "      <th>1</th>\n",
       "      <td>0</td>\n",
       "      <td>ok lar... joking wif u oni...</td>\n",
       "      <td>0</td>\n",
       "      <td>29</td>\n",
       "      <td>2</td>\n",
       "      <td>6</td>\n",
       "      <td>1</td>\n",
       "    </tr>\n",
       "    <tr>\n",
       "      <th>2</th>\n",
       "      <td>1</td>\n",
       "      <td>free entry in 2 a wkly comp to win fa cup fina...</td>\n",
       "      <td>1</td>\n",
       "      <td>155</td>\n",
       "      <td>7</td>\n",
       "      <td>28</td>\n",
       "      <td>0</td>\n",
       "    </tr>\n",
       "    <tr>\n",
       "      <th>3</th>\n",
       "      <td>0</td>\n",
       "      <td>u dun say so early hor... u c already then say...</td>\n",
       "      <td>0</td>\n",
       "      <td>49</td>\n",
       "      <td>2</td>\n",
       "      <td>11</td>\n",
       "      <td>1</td>\n",
       "    </tr>\n",
       "    <tr>\n",
       "      <th>4</th>\n",
       "      <td>0</td>\n",
       "      <td>nah i don't think he goes to usf, he lives aro...</td>\n",
       "      <td>0</td>\n",
       "      <td>61</td>\n",
       "      <td>3</td>\n",
       "      <td>13</td>\n",
       "      <td>0</td>\n",
       "    </tr>\n",
       "  </tbody>\n",
       "</table>\n",
       "</div>"
      ],
      "text/plain": [
       "   v1                                                 v2  NoDigits5  length  \\\n",
       "0   0  go until jurong point, crazy.. available only ...          0     111   \n",
       "1   0                      ok lar... joking wif u oni...          0      29   \n",
       "2   1  free entry in 2 a wkly comp to win fa cup fina...          1     155   \n",
       "3   0  u dun say so early hor... u c already then say...          0      49   \n",
       "4   0  nah i don't think he goes to usf, he lives aro...          0      61   \n",
       "\n",
       "   NoOfPunc  NumberOfWords  SlangWords  \n",
       "0         2             20           1  \n",
       "1         2              6           1  \n",
       "2         7             28           0  \n",
       "3         2             11           1  \n",
       "4         3             13           0  "
      ]
     },
     "execution_count": 27,
     "metadata": {},
     "output_type": "execute_result"
    }
   ],
   "source": [
    "#Lower case all the letters in the dataset.\n",
    "train['v2'] = train['v2'].str.lower()\n",
    "train.head()"
   ]
  },
  {
   "cell_type": "markdown",
   "metadata": {},
   "source": [
    "### Data Cleaning"
   ]
  },
  {
   "cell_type": "code",
   "execution_count": 28,
   "metadata": {},
   "outputs": [],
   "source": [
    "#import libraries for process text\n",
    "import nltk\n",
    "import math\n",
    "\n",
    "from nltk.corpus import stopwords\n",
    "from nltk.stem import PorterStemmer\n",
    "from nltk.tokenize import word_tokenize, sent_tokenize\n",
    "\n",
    "#classifiers\n",
    "from sklearn.linear_model import LogisticRegression\n",
    "from sklearn.svm import *\n",
    "from sklearn.multiclass import *\n",
    "from sklearn.naive_bayes import *\n",
    "from sklearn.tree import DecisionTreeClassifier\n",
    "from sklearn.neighbors import KNeighborsClassifier\n",
    "from sklearn.ensemble import *\n",
    "\n",
    "from sklearn.metrics import confusion_matrix\n",
    "\n",
    "#vectorizers\n",
    "from sklearn.feature_extraction.text import CountVectorizer\n",
    "from sklearn.feature_extraction.text import TfidfVectorizer\n",
    "\n",
    "from sklearn.metrics import accuracy_score"
   ]
  },
  {
   "cell_type": "code",
   "execution_count": 29,
   "metadata": {},
   "outputs": [],
   "source": [
    "text = train['v2'].copy()"
   ]
  },
  {
   "cell_type": "code",
   "execution_count": 30,
   "metadata": {},
   "outputs": [
    {
     "data": {
      "text/plain": [
       "you         3069\n",
       "i           2362\n",
       "to          2242\n",
       "a           1433\n",
       "the         1328\n",
       "and         1121\n",
       "your        1044\n",
       "in           898\n",
       "is           889\n",
       "me           802\n",
       "my           762\n",
       "for          704\n",
       "it           644\n",
       "are          634\n",
       "of           620\n",
       "call         591\n",
       "have         575\n",
       "on           537\n",
       "2            528\n",
       "that         519\n",
       "now          499\n",
       "im           478\n",
       "so           461\n",
       "but          441\n",
       "not          439\n",
       "or           422\n",
       "can          409\n",
       "do           409\n",
       "at           404\n",
       "get          391\n",
       "be           387\n",
       "if           386\n",
       "will         385\n",
       "with         381\n",
       "just         371\n",
       "no           366\n",
       "we           355\n",
       "this         341\n",
       "its          325\n",
       "4            320\n",
       "what         312\n",
       "up           306\n",
       "å            303\n",
       "when         295\n",
       "from         284\n",
       "free         284\n",
       "dont         282\n",
       "how          281\n",
       "go           280\n",
       "all          274\n",
       "out          274\n",
       "know         261\n",
       "u            255\n",
       "good         245\n",
       "like         245\n",
       "then         243\n",
       "got          239\n",
       "was          231\n",
       "come         229\n",
       "ok           227\n",
       "am           225\n",
       "time         220\n",
       "only         218\n",
       "day          218\n",
       "ill          209\n",
       "love         208\n",
       "there        202\n",
       "please       202\n",
       "send         199\n",
       "he           195\n",
       "want         194\n",
       "text         193\n",
       "as           181\n",
       "txt          177\n",
       "one          174\n",
       "going        173\n",
       "by           172\n",
       "1            171\n",
       "need         168\n",
       "home         167\n",
       "about        166\n",
       "lor          162\n",
       "sorry        160\n",
       "stop         158\n",
       "see          157\n",
       "still        157\n",
       "back         153\n",
       "today        153\n",
       "message      151\n",
       "da           150\n",
       "our          149\n",
       "reply        148\n",
       "k            147\n",
       "she          143\n",
       "mobile       142\n",
       "take         139\n",
       "tell         138\n",
       "hi           138\n",
       "well         138\n",
       "new          136\n",
       "later        135\n",
       "her          134\n",
       "any          134\n",
       "think        132\n",
       "been         130\n",
       "they         127\n",
       "cant         126\n",
       "phone        125\n",
       "here         123\n",
       "dear         122\n",
       "week         122\n",
       "did          121\n",
       "some         120\n",
       "ì_           118\n",
       "has          117\n",
       "much         116\n",
       "night        115\n",
       "great        115\n",
       "oh           114\n",
       "an           114\n",
       "hope         113\n",
       "claim        113\n",
       "hey          112\n",
       "him          111\n",
       "who          111\n",
       "where        110\n",
       "d            110\n",
       "because      110\n",
       "too          109\n",
       "more         109\n",
       "happy        107\n",
       "3            105\n",
       "had          104\n",
       "yes          103\n",
       "way          102\n",
       "make         102\n",
       "c            101\n",
       "work         100\n",
       "www          100\n",
       "give         100\n",
       "thats         98\n",
       "number        97\n",
       "e             96\n",
       "should        96\n",
       "prize         93\n",
       "tomorrow      93\n",
       "say           92\n",
       "t             92\n",
       "right         92\n",
       "okay          92\n",
       "dtype: int64"
      ]
     },
     "execution_count": 30,
     "metadata": {},
     "output_type": "execute_result"
    }
   ],
   "source": [
    "# remove special characters from all text\n",
    "for i in range(len(text)):\n",
    "    text[i] = text[i].replace(' pls ', ' please ')\n",
    "    text[i] = text[i].replace(' r ', ' are ')\n",
    "    text[i] = text[i].replace(' u ', ' you ')\n",
    "    text[i] = text[i].replace(' ur ', ' your ')\n",
    "    text[i] = text[i].replace(' n ', ' and ')\n",
    "    text[i] = text[i].replace(' msg ', ' message ')\n",
    "    text[i] = text[i].replace(' ok ', ' okay ')\n",
    "    text[i] = text[i].replace(' wat ', ' what ')\n",
    "    text[i] = text[i].replace(' cos ', ' because ')\n",
    "    text[i] = text[i].replace('\\'', '')\n",
    "    text[i] = re.sub('&lt;#&gt;', ' ', text[i] )\n",
    "    text[i] = re.sub(r'[^\\w\\s]', ' ', text[i] ) # only words will remain after this\n",
    "    text[i] = re.sub('\\s+', ' ', text[i]) # replace more than 1 whitespaces into 1 whitespace\n",
    "    text[i] = text[i].strip() # all leading and trailing whitespaces are removed from the string\n",
    "    \n",
    "# Find how many times each word is used. \n",
    "pd.Series(' '.join(text).lower().split(' ')).value_counts()[:150]"
   ]
  },
  {
   "cell_type": "code",
   "execution_count": 31,
   "metadata": {},
   "outputs": [
    {
     "data": {
      "text/plain": [
       "             5572\n",
       "call          591\n",
       "2             528\n",
       "im            478\n",
       "get           391\n",
       "4             320\n",
       "å             303\n",
       "free          284\n",
       "dont          282\n",
       "go            280\n",
       "know          261\n",
       "u             255\n",
       "got           251\n",
       "good          245\n",
       "like          245\n",
       "come          229\n",
       "ok            227\n",
       "time          220\n",
       "day           218\n",
       "ill           209\n",
       "love          208\n",
       "please        202\n",
       "send          199\n",
       "want          194\n",
       "text          193\n",
       "txt           177\n",
       "one           174\n",
       "going         173\n",
       "1             171\n",
       "need          168\n",
       "home          167\n",
       "lor           162\n",
       "sorry         160\n",
       "stop          158\n",
       "still         157\n",
       "see           157\n",
       "today         153\n",
       "back          153\n",
       "message       151\n",
       "da            150\n",
       "reply         148\n",
       "k             147\n",
       "mobile        142\n",
       "take          139\n",
       "hi            138\n",
       "tell          138\n",
       "well          138\n",
       "new           136\n",
       "later         135\n",
       "think         132\n",
       "cant          126\n",
       "phone         125\n",
       "week          122\n",
       "dear          122\n",
       "ì_            118\n",
       "much          116\n",
       "great         115\n",
       "night         115\n",
       "oh            114\n",
       "hope          113\n",
       "claim         113\n",
       "hey           112\n",
       "na            109\n",
       "happy         107\n",
       "3             105\n",
       "yes           103\n",
       "make          102\n",
       "way           102\n",
       "c             101\n",
       "work          100\n",
       "www           100\n",
       "give          100\n",
       "thats          98\n",
       "number         97\n",
       "e              96\n",
       "wan            93\n",
       "prize          93\n",
       "tomorrow       93\n",
       "say            92\n",
       "right          92\n",
       "okay           92\n",
       "already        91\n",
       "ask            89\n",
       "cash           88\n",
       "said           88\n",
       "yeah           87\n",
       "amp            86\n",
       "really         86\n",
       "meet           83\n",
       "life           82\n",
       "find           81\n",
       "didnt          79\n",
       "babe           79\n",
       "morning        79\n",
       "last           78\n",
       "miss           77\n",
       "would          76\n",
       "thanks         76\n",
       "win            75\n",
       "lol            74\n",
       "also           74\n",
       "ive            74\n",
       "let            73\n",
       "anything       73\n",
       "b              73\n",
       "every          72\n",
       "com            71\n",
       "care           71\n",
       "pick           71\n",
       "sure           71\n",
       "150p           71\n",
       "nokia          70\n",
       "sent           70\n",
       "urgent         70\n",
       "keep           69\n",
       "uk             68\n",
       "contact        68\n",
       "something      68\n",
       "us             67\n",
       "buy            67\n",
       "min            67\n",
       "wait           66\n",
       "5              65\n",
       "pls            65\n",
       "first          65\n",
       "next           62\n",
       "thing          62\n",
       "feel           62\n",
       "cs             62\n",
       "even           62\n",
       "went           62\n",
       "nice           62\n",
       "soon           61\n",
       "around         61\n",
       "50             61\n",
       "someone        61\n",
       "tone           60\n",
       "service        60\n",
       "money          60\n",
       "place          60\n",
       "could          60\n",
       "gon            59\n",
       "many           59\n",
       "late           59\n",
       "tonight        59\n",
       "help           58\n",
       "ya             58\n",
       "friends        58\n",
       "sleep          58\n",
       "customer       58\n",
       "dtype: int64"
      ]
     },
     "execution_count": 31,
     "metadata": {},
     "output_type": "execute_result"
    }
   ],
   "source": [
    "#Remove stop words\n",
    "for i in range(len(text)):\n",
    "    \n",
    "    sent = text[i]\n",
    "    stop_words = set(stopwords.words('english')) \n",
    "\n",
    "    word_tokens = word_tokenize(sent) \n",
    "\n",
    "    filtered_sentence = \"\"\n",
    "\n",
    "    for w in word_tokens: \n",
    "        if w not in stop_words: \n",
    "            filtered_sentence += w + \" \" \n",
    "\n",
    "    #print(word_tokens) \n",
    "    #print(filtered_sentence) \n",
    "    text[i] = filtered_sentence\n",
    "pd.Series(' '.join(text).lower().split(' ')).value_counts()[:150]"
   ]
  },
  {
   "cell_type": "code",
   "execution_count": 32,
   "metadata": {},
   "outputs": [
    {
     "data": {
      "text/plain": [
       "            5572\n",
       "call         672\n",
       "2            528\n",
       "im           479\n",
       "go           453\n",
       "get          452\n",
       "4            320\n",
       "å            303\n",
       "come         301\n",
       "free         284\n",
       "dont         282\n",
       "know         274\n",
       "day          262\n",
       "love         259\n",
       "like         259\n",
       "u            255\n",
       "got          251\n",
       "time         251\n",
       "good         246\n",
       "want         245\n",
       "text         231\n",
       "ok           227\n",
       "send         213\n",
       "ill          211\n",
       "pleas        208\n",
       "txt          190\n",
       "need         189\n",
       "one          184\n",
       "today        181\n",
       "messag       180\n",
       "take         173\n",
       "see          172\n",
       "1            171\n",
       "home         167\n",
       "stop         166\n",
       "think        166\n",
       "repli        163\n",
       "lor          162\n",
       "sorri        160\n",
       "still        157\n",
       "tell         157\n",
       "mobil        154\n",
       "back         153\n",
       "da           151\n",
       "make         148\n",
       "k            147\n",
       "phone        141\n",
       "week         141\n",
       "say          139\n",
       "well         138\n",
       "hi           138\n",
       "new          136\n",
       "work         135\n",
       "later        135\n",
       "hope         133\n",
       "ask          133\n",
       "miss         130\n",
       "meet         128\n",
       "cant         126\n",
       "dear         122\n",
       "wait         121\n",
       "night        121\n",
       "happi        120\n",
       "ì_           118\n",
       "great        116\n",
       "much         116\n",
       "thing        116\n",
       "claim        115\n",
       "min          115\n",
       "oh           114\n",
       "tri          114\n",
       "give         113\n",
       "hey          112\n",
       "number       110\n",
       "na           109\n",
       "friend       107\n",
       "3            105\n",
       "thank        105\n",
       "ye           103\n",
       "way          102\n",
       "c            101\n",
       "www          100\n",
       "that          98\n",
       "let           97\n",
       "e             96\n",
       "feel          95\n",
       "prize         95\n",
       "right         94\n",
       "tomorrow      93\n",
       "wan           93\n",
       "okay          92\n",
       "even          92\n",
       "alreadi       91\n",
       "pick          91\n",
       "cash          89\n",
       "said          88\n",
       "yeah          87\n",
       "leav          87\n",
       "amp           86\n",
       "care          86\n",
       "tone          86\n",
       "realli        86\n",
       "babe          85\n",
       "win           83\n",
       "morn          83\n",
       "find          83\n",
       "life          82\n",
       "sleep         79\n",
       "didnt         79\n",
       "last          79\n",
       "uk            78\n",
       "servic        78\n",
       "sure          77\n",
       "keep          77\n",
       "buy           76\n",
       "would         76\n",
       "use           76\n",
       "year          75\n",
       "contact       75\n",
       "also          74\n",
       "ive           74\n",
       "lol           74\n",
       "anyth         74\n",
       "b             73\n",
       "urgent        73\n",
       "msg           73\n",
       "start         73\n",
       "wish          73\n",
       "nokia         73\n",
       "everi         72\n",
       "look          72\n",
       "150p          71\n",
       "smile         71\n",
       "com           71\n",
       "sent          70\n",
       "someth        69\n",
       "watch         69\n",
       "show          69\n",
       "wat           68\n",
       "award         67\n",
       "finish        67\n",
       "us            67\n",
       "end           67\n",
       "place         66\n",
       "pl            66\n",
       "first         65\n",
       "5             65\n",
       "nice          62\n",
       "next          62\n",
       "guy           62\n",
       "dtype: int64"
      ]
     },
     "execution_count": 32,
     "metadata": {},
     "output_type": "execute_result"
    }
   ],
   "source": [
    "#Apply Porter Stemmer\n",
    "ps = PorterStemmer()\n",
    "\n",
    "for i in range(len(text)):\n",
    "    str = word_tokenize( text[i] )\n",
    "    str2 = \"\"\n",
    "    for w in str: \n",
    "        str2 += ps.stem(w) + \" \"\n",
    "    text[i] = str2\n",
    "pd.Series(' '.join(text).lower().split(' ')).value_counts()[:150]"
   ]
  },
  {
   "cell_type": "code",
   "execution_count": 33,
   "metadata": {},
   "outputs": [
    {
     "name": "stderr",
     "output_type": "stream",
     "text": [
      "E:\\Anaconda3\\lib\\site-packages\\sklearn\\ensemble\\forest.py:246: FutureWarning: The default value of n_estimators will change from 10 in version 0.20 to 100 in 0.22.\n",
      "  \"10 in version 0.20 to 100 in 0.22.\", FutureWarning)\n"
     ]
    },
    {
     "name": "stdout",
     "output_type": "stream",
     "text": [
      "                     Classifier and vectorizer  Accuracy\n",
      "0  RandomForestClassifier with CountVectorizer  0.973991\n",
      "1  RandomForestClassifier with TfidfVectorizer  0.973094\n",
      "2  DecisionTreeClassifier with CountVectorizer  0.978475\n",
      "3  DecisionTreeClassifier with TfidfVectorizer  0.971300\n",
      "4           MultinomialNB with CountVectorizer  0.990135\n",
      "5           MultinomialNB with TfidfVectorizer  0.973991\n",
      "6     OneVsRestClassifier with CountVectorizer  0.986547\n",
      "7     OneVsRestClassifier with TfidfVectorizer  0.984753\n",
      "\n",
      " MultinomialNB with CountVectorizer gives best score with 0.9901345291479821\n"
     ]
    }
   ],
   "source": [
    "table = pd.DataFrame(columns=['Classifier and vectorizer', 'Accuracy'])\n",
    "max = 0\n",
    "predBest = 0\n",
    "strBest = ''\n",
    "classifiers = [\n",
    "        RandomForestClassifier(),\n",
    "        #AdaBoostClassifier(),\n",
    "        #BaggingClassifier(),\n",
    "        #GradientBoostingClassifier(),\n",
    "        DecisionTreeClassifier(),\n",
    "        #KNeighborsClassifier(),\n",
    "        #SVC(),\n",
    "        MultinomialNB(),\n",
    "        OneVsRestClassifier(SVC(kernel='linear'))\n",
    "    ]\n",
    "vectorizers = [\n",
    "        CountVectorizer(),\n",
    "        TfidfVectorizer()\n",
    "    ]\n",
    "for cls in classifiers:\n",
    "    for vec in vectorizers:\n",
    "        vectorizer = vec\n",
    "        X = vectorizer.fit_transform(text)\n",
    "            \n",
    "        x_train, x_test, y_train, y_test = model_selection.train_test_split(X, train['v1'], random_state=123, test_size=0.2)\n",
    "            \n",
    "        clf = cls.fit(x_train,y_train)\n",
    "        pred = clf.predict(x_test)\n",
    "        score = accuracy_score(y_test,pred)\n",
    "        str = \"\"\n",
    "        str = cls.__class__.__name__ + \" with \" + vec.__class__.__name__\n",
    "        if score > max:\n",
    "            max = score\n",
    "            predBest = pred\n",
    "            strBest = str\n",
    "        \n",
    "        table = table.append({'Classifier and vectorizer': str,'Accuracy': score},ignore_index=True)\n",
    "print(table)\n",
    "print(\"\\n\" ,strBest , \"gives best score with\", max)"
   ]
  },
  {
   "cell_type": "markdown",
   "metadata": {},
   "source": [
    "### Ensemle Learning"
   ]
  },
  {
   "cell_type": "code",
   "execution_count": 34,
   "metadata": {},
   "outputs": [],
   "source": [
    "from sklearn.ensemble import VotingClassifier"
   ]
  },
  {
   "cell_type": "code",
   "execution_count": 35,
   "metadata": {},
   "outputs": [
    {
     "data": {
      "text/plain": [
       "0.9838565022421525"
      ]
     },
     "execution_count": 35,
     "metadata": {},
     "output_type": "execute_result"
    }
   ],
   "source": [
    "clf1 = RandomForestClassifier(n_estimators=10, n_jobs=-1)\n",
    "clf2 = MultinomialNB(alpha=0.1)\n",
    "clf3 = OneVsRestClassifier(SVC(kernel='linear'))\n",
    "clf4 = DecisionTreeClassifier()\n",
    "\n",
    "X = CountVectorizer().fit_transform(text)\n",
    "X_train, X_test, y_train, y_test = model_selection.train_test_split(X, train['v1'], random_state=123, test_size=0.2)\n",
    "\n",
    "eclf = VotingClassifier(estimators=[('rf', clf1), ('mb', clf2), ('ovr', clf3), ('dsc', clf4)], voting='hard')\n",
    "eclf = eclf.fit(X_train, y_train)\n",
    "pred = eclf.predict(X_test)\n",
    "accuracy_score(y_test,pred)"
   ]
  },
  {
   "cell_type": "markdown",
   "metadata": {},
   "source": [
    "MultinomialNB is still best."
   ]
  },
  {
   "cell_type": "code",
   "execution_count": 36,
   "metadata": {},
   "outputs": [
    {
     "data": {
      "image/png": "[encoded data removed]",
      "text/plain": [
       "<Figure size 432x288 with 2 Axes>"
      ]
     },
     "metadata": {
      "needs_background": "light"
     },
     "output_type": "display_data"
    }
   ],
   "source": [
    "cm1 = confusion_matrix(y_test, predBest)\n",
    "\n",
    "ax= plt.subplot()\n",
    "sns.heatmap(cm1, annot=True, ax = ax,fmt='g'); #annot=True to annotate cells\n",
    "ax.set_xlabel('Predicted labels');\n",
    "ax.set_ylabel('True labels');\n",
    "ax.xaxis.set_ticklabels(['ham', 'spam']);\n",
    "ax.yaxis.set_ticklabels(['ham', 'spam']);"
   ]
  },
  {
   "cell_type": "markdown",
   "metadata": {},
   "source": [
    "### Parameter Tuning"
   ]
  },
  {
   "cell_type": "markdown",
   "metadata": {},
   "source": [
    "CountVectorizer will be used for vectorization"
   ]
  },
  {
   "cell_type": "code",
   "execution_count": 37,
   "metadata": {},
   "outputs": [],
   "source": [
    "vectorizer = CountVectorizer()\n",
    "features = vectorizer.fit_transform(text)\n",
    "X_train, X_test, y_train, y_test = model_selection.train_test_split(X, train['v1'], random_state=123, test_size=0.2)"
   ]
  },
  {
   "cell_type": "code",
   "execution_count": 38,
   "metadata": {},
   "outputs": [
    {
     "name": "stderr",
     "output_type": "stream",
     "text": [
      "E:\\Anaconda3\\lib\\site-packages\\ipykernel_launcher.py:7: FutureWarning: from_items is deprecated. Please use DataFrame.from_dict(dict(items), ...) instead. DataFrame.from_dict(OrderedDict(items)) may be used to preserve the key order.\n",
      "  import sys\n"
     ]
    },
    {
     "data": {
      "text/plain": [
       "<matplotlib.axes._subplots.AxesSubplot at 0x1aee9dc0828>"
      ]
     },
     "execution_count": 38,
     "metadata": {},
     "output_type": "execute_result"
    },
    {
     "data": {
      "image/png": "[encoded data removed]",
      "text/plain": [
       "<Figure size 792x432 with 1 Axes>"
      ]
     },
     "metadata": {
      "needs_background": "light"
     },
     "output_type": "display_data"
    }
   ],
   "source": [
    "pred_scores = []\n",
    "for i in range(3,50):\n",
    "    knc = KNeighborsClassifier(n_neighbors=i)\n",
    "    knc.fit(X_train, y_train)\n",
    "    pred1 = knc.predict(X_test)\n",
    "    pred_scores.append((i, [accuracy_score(y_test,pred1)]))\n",
    "df = pd.DataFrame.from_items(pred_scores,orient='index', columns=['Score'])\n",
    "df.plot(figsize=(11,6))"
   ]
  },
  {
   "cell_type": "code",
   "execution_count": 39,
   "metadata": {},
   "outputs": [
    {
     "data": {
      "text/html": [
       "<div>\n",
       "<style scoped>\n",
       "    .dataframe tbody tr th:only-of-type {\n",
       "        vertical-align: middle;\n",
       "    }\n",
       "\n",
       "    .dataframe tbody tr th {\n",
       "        vertical-align: top;\n",
       "    }\n",
       "\n",
       "    .dataframe thead th {\n",
       "        text-align: right;\n",
       "    }\n",
       "</style>\n",
       "<table border=\"1\" class=\"dataframe\">\n",
       "  <thead>\n",
       "    <tr style=\"text-align: right;\">\n",
       "      <th></th>\n",
       "      <th>Score</th>\n",
       "    </tr>\n",
       "  </thead>\n",
       "  <tbody>\n",
       "    <tr>\n",
       "      <th>3</th>\n",
       "      <td>0.939013</td>\n",
       "    </tr>\n",
       "  </tbody>\n",
       "</table>\n",
       "</div>"
      ],
      "text/plain": [
       "      Score\n",
       "3  0.939013"
      ]
     },
     "execution_count": 39,
     "metadata": {},
     "output_type": "execute_result"
    }
   ],
   "source": [
    "df[df['Score'] == df['Score'].max()]"
   ]
  },
  {
   "cell_type": "code",
   "execution_count": 40,
   "metadata": {},
   "outputs": [
    {
     "name": "stderr",
     "output_type": "stream",
     "text": [
      "E:\\Anaconda3\\lib\\site-packages\\ipykernel_launcher.py:7: FutureWarning: from_items is deprecated. Please use DataFrame.from_dict(dict(items), ...) instead. DataFrame.from_dict(OrderedDict(items)) may be used to preserve the key order.\n",
      "  import sys\n"
     ]
    },
    {
     "data": {
      "text/plain": [
       "<matplotlib.axes._subplots.AxesSubplot at 0x1aee88af198>"
      ]
     },
     "execution_count": 40,
     "metadata": {},
     "output_type": "execute_result"
    },
    {
     "data": {
      "image/png": "[encoded data removed]",
      "text/plain": [
       "<Figure size 792x432 with 1 Axes>"
      ]
     },
     "metadata": {
      "needs_background": "light"
     },
     "output_type": "display_data"
    }
   ],
   "source": [
    "pred_scores1 = []\n",
    "for i in np.linspace(0.05, 1, num=20):\n",
    "    mnb = MultinomialNB(alpha=i)\n",
    "    mnb.fit(X_train, y_train)\n",
    "    pred2 = mnb.predict(X_test)\n",
    "    pred_scores1.append((i, [accuracy_score(y_test,pred2)]))\n",
    "df = pd.DataFrame.from_items(pred_scores1,orient='index', columns=['Score'])\n",
    "df.plot(figsize=(11,6))"
   ]
  },
  {
   "cell_type": "code",
   "execution_count": 41,
   "metadata": {},
   "outputs": [
    {
     "data": {
      "text/html": [
       "<div>\n",
       "<style scoped>\n",
       "    .dataframe tbody tr th:only-of-type {\n",
       "        vertical-align: middle;\n",
       "    }\n",
       "\n",
       "    .dataframe tbody tr th {\n",
       "        vertical-align: top;\n",
       "    }\n",
       "\n",
       "    .dataframe thead th {\n",
       "        text-align: right;\n",
       "    }\n",
       "</style>\n",
       "<table border=\"1\" class=\"dataframe\">\n",
       "  <thead>\n",
       "    <tr style=\"text-align: right;\">\n",
       "      <th></th>\n",
       "      <th>Score</th>\n",
       "    </tr>\n",
       "  </thead>\n",
       "  <tbody>\n",
       "    <tr>\n",
       "      <th>0.05</th>\n",
       "      <td>0.990135</td>\n",
       "    </tr>\n",
       "    <tr>\n",
       "      <th>0.10</th>\n",
       "      <td>0.990135</td>\n",
       "    </tr>\n",
       "    <tr>\n",
       "      <th>0.15</th>\n",
       "      <td>0.990135</td>\n",
       "    </tr>\n",
       "    <tr>\n",
       "      <th>0.20</th>\n",
       "      <td>0.990135</td>\n",
       "    </tr>\n",
       "    <tr>\n",
       "      <th>0.25</th>\n",
       "      <td>0.990135</td>\n",
       "    </tr>\n",
       "    <tr>\n",
       "      <th>0.75</th>\n",
       "      <td>0.990135</td>\n",
       "    </tr>\n",
       "    <tr>\n",
       "      <th>0.80</th>\n",
       "      <td>0.990135</td>\n",
       "    </tr>\n",
       "    <tr>\n",
       "      <th>0.85</th>\n",
       "      <td>0.990135</td>\n",
       "    </tr>\n",
       "    <tr>\n",
       "      <th>0.90</th>\n",
       "      <td>0.990135</td>\n",
       "    </tr>\n",
       "    <tr>\n",
       "      <th>0.95</th>\n",
       "      <td>0.990135</td>\n",
       "    </tr>\n",
       "    <tr>\n",
       "      <th>1.00</th>\n",
       "      <td>0.990135</td>\n",
       "    </tr>\n",
       "  </tbody>\n",
       "</table>\n",
       "</div>"
      ],
      "text/plain": [
       "         Score\n",
       "0.05  0.990135\n",
       "0.10  0.990135\n",
       "0.15  0.990135\n",
       "0.20  0.990135\n",
       "0.25  0.990135\n",
       "0.75  0.990135\n",
       "0.80  0.990135\n",
       "0.85  0.990135\n",
       "0.90  0.990135\n",
       "0.95  0.990135\n",
       "1.00  0.990135"
      ]
     },
     "execution_count": 41,
     "metadata": {},
     "output_type": "execute_result"
    }
   ],
   "source": [
    "df[df['Score'] == df['Score'].max()]"
   ]
  },
  {
   "cell_type": "code",
   "execution_count": 42,
   "metadata": {},
   "outputs": [
    {
     "name": "stderr",
     "output_type": "stream",
     "text": [
      "E:\\Anaconda3\\lib\\site-packages\\ipykernel_launcher.py:7: FutureWarning: from_items is deprecated. Please use DataFrame.from_dict(dict(items), ...) instead. DataFrame.from_dict(OrderedDict(items)) may be used to preserve the key order.\n",
      "  import sys\n"
     ]
    },
    {
     "data": {
      "text/plain": [
       "<matplotlib.axes._subplots.AxesSubplot at 0x1aee9db1d30>"
      ]
     },
     "execution_count": 42,
     "metadata": {},
     "output_type": "execute_result"
    },
    {
     "data": {
      "image/png": "[encoded data removed]",
      "text/plain": [
       "<Figure size 792x432 with 1 Axes>"
      ]
     },
     "metadata": {
      "needs_background": "light"
     },
     "output_type": "display_data"
    }
   ],
   "source": [
    "pred_scores2 = []\n",
    "for i in range(2,21):\n",
    "    dtc = DecisionTreeClassifier(min_samples_split=i, random_state=111)\n",
    "    dtc.fit(X_train, y_train)\n",
    "    pred3 = dtc.predict(X_test)\n",
    "    pred_scores2.append((i, [accuracy_score(y_test,pred3)]))\n",
    "df = pd.DataFrame.from_items(pred_scores2,orient='index', columns=['Score'])\n",
    "df.plot(figsize=(11,6))"
   ]
  },
  {
   "cell_type": "code",
   "execution_count": 43,
   "metadata": {},
   "outputs": [
    {
     "data": {
      "text/html": [
       "<div>\n",
       "<style scoped>\n",
       "    .dataframe tbody tr th:only-of-type {\n",
       "        vertical-align: middle;\n",
       "    }\n",
       "\n",
       "    .dataframe tbody tr th {\n",
       "        vertical-align: top;\n",
       "    }\n",
       "\n",
       "    .dataframe thead th {\n",
       "        text-align: right;\n",
       "    }\n",
       "</style>\n",
       "<table border=\"1\" class=\"dataframe\">\n",
       "  <thead>\n",
       "    <tr style=\"text-align: right;\">\n",
       "      <th></th>\n",
       "      <th>Score</th>\n",
       "    </tr>\n",
       "  </thead>\n",
       "  <tbody>\n",
       "    <tr>\n",
       "      <th>7</th>\n",
       "      <td>0.977578</td>\n",
       "    </tr>\n",
       "    <tr>\n",
       "      <th>8</th>\n",
       "      <td>0.977578</td>\n",
       "    </tr>\n",
       "    <tr>\n",
       "      <th>9</th>\n",
       "      <td>0.977578</td>\n",
       "    </tr>\n",
       "    <tr>\n",
       "      <th>10</th>\n",
       "      <td>0.977578</td>\n",
       "    </tr>\n",
       "    <tr>\n",
       "      <th>11</th>\n",
       "      <td>0.977578</td>\n",
       "    </tr>\n",
       "    <tr>\n",
       "      <th>12</th>\n",
       "      <td>0.977578</td>\n",
       "    </tr>\n",
       "    <tr>\n",
       "      <th>13</th>\n",
       "      <td>0.977578</td>\n",
       "    </tr>\n",
       "    <tr>\n",
       "      <th>16</th>\n",
       "      <td>0.977578</td>\n",
       "    </tr>\n",
       "    <tr>\n",
       "      <th>18</th>\n",
       "      <td>0.977578</td>\n",
       "    </tr>\n",
       "  </tbody>\n",
       "</table>\n",
       "</div>"
      ],
      "text/plain": [
       "       Score\n",
       "7   0.977578\n",
       "8   0.977578\n",
       "9   0.977578\n",
       "10  0.977578\n",
       "11  0.977578\n",
       "12  0.977578\n",
       "13  0.977578\n",
       "16  0.977578\n",
       "18  0.977578"
      ]
     },
     "execution_count": 43,
     "metadata": {},
     "output_type": "execute_result"
    }
   ],
   "source": [
    "df[df['Score'] == df['Score'].max()]"
   ]
  },
  {
   "cell_type": "code",
   "execution_count": 44,
   "metadata": {},
   "outputs": [
    {
     "name": "stderr",
     "output_type": "stream",
     "text": [
      "E:\\Anaconda3\\lib\\site-packages\\ipykernel_launcher.py:7: FutureWarning: from_items is deprecated. Please use DataFrame.from_dict(dict(items), ...) instead. DataFrame.from_dict(OrderedDict(items)) may be used to preserve the key order.\n",
      "  import sys\n"
     ]
    },
    {
     "data": {
      "text/plain": [
       "<matplotlib.axes._subplots.AxesSubplot at 0x1aee9d8ecc0>"
      ]
     },
     "execution_count": 44,
     "metadata": {},
     "output_type": "execute_result"
    },
    {
     "data": {
      "image/png": "[encoded data removed]",
      "text/plain": [
       "<Figure size 792x432 with 1 Axes>"
      ]
     },
     "metadata": {
      "needs_background": "light"
     },
     "output_type": "display_data"
    }
   ],
   "source": [
    "pred_scores3 = []\n",
    "for i in range(2,36):\n",
    "    rfc = RandomForestClassifier(n_estimators=i, random_state=111)\n",
    "    rfc.fit(X_train, y_train)\n",
    "    pred4 = rfc.predict(X_test)\n",
    "    pred_scores3.append((i, [accuracy_score(y_test,pred4)]))\n",
    "df = pd.DataFrame.from_items(pred_scores3,orient='index', columns=['Score'])\n",
    "df.plot(figsize=(11,6))"
   ]
  },
  {
   "cell_type": "code",
   "execution_count": 45,
   "metadata": {},
   "outputs": [
    {
     "data": {
      "text/html": [
       "<div>\n",
       "<style scoped>\n",
       "    .dataframe tbody tr th:only-of-type {\n",
       "        vertical-align: middle;\n",
       "    }\n",
       "\n",
       "    .dataframe tbody tr th {\n",
       "        vertical-align: top;\n",
       "    }\n",
       "\n",
       "    .dataframe thead th {\n",
       "        text-align: right;\n",
       "    }\n",
       "</style>\n",
       "<table border=\"1\" class=\"dataframe\">\n",
       "  <thead>\n",
       "    <tr style=\"text-align: right;\">\n",
       "      <th></th>\n",
       "      <th>Score</th>\n",
       "    </tr>\n",
       "  </thead>\n",
       "  <tbody>\n",
       "    <tr>\n",
       "      <th>25</th>\n",
       "      <td>0.978475</td>\n",
       "    </tr>\n",
       "  </tbody>\n",
       "</table>\n",
       "</div>"
      ],
      "text/plain": [
       "       Score\n",
       "25  0.978475"
      ]
     },
     "execution_count": 45,
     "metadata": {},
     "output_type": "execute_result"
    }
   ],
   "source": [
    "df[df['Score'] == df['Score'].max()]"
   ]
  },
  {
   "cell_type": "markdown",
   "metadata": {},
   "source": [
    "MultinomialNB is still best with parameter tuned."
   ]
  },
  {
   "cell_type": "code",
   "execution_count": 46,
   "metadata": {},
   "outputs": [
    {
     "data": {
      "text/plain": [
       "0.9901345291479821"
      ]
     },
     "execution_count": 46,
     "metadata": {},
     "output_type": "execute_result"
    }
   ],
   "source": [
    "mnb = MultinomialNB(alpha=0.2)\n",
    "mnb.fit(X_train, y_train)\n",
    "pred2 = mnb.predict(X_test)\n",
    "accuracy_score(y_test,pred2)"
   ]
  },
  {
   "cell_type": "code",
   "execution_count": 47,
   "metadata": {},
   "outputs": [
    {
     "data": {
      "text/plain": [
       "Text(0.5, 1.0, 'MultinomialNB\\nResults After Parameter Tuning')"
      ]
     },
     "execution_count": 47,
     "metadata": {},
     "output_type": "execute_result"
    },
    {
     "data": {
      "image/png": "[encoded data removed]",
      "text/plain": [
       "<Figure size 1008x360 with 4 Axes>"
      ]
     },
     "metadata": {
      "needs_background": "light"
     },
     "output_type": "display_data"
    }
   ],
   "source": [
    "cm2 = confusion_matrix(y_test, pred2)\n",
    "\n",
    "fig, ax =plt.subplots(1,2,figsize=(14,5))\n",
    "sns.heatmap(cm1, annot=True, ax = ax[0],fmt='g'); #annot=True to annotate cells\n",
    "sns.heatmap(cm2, annot=True, ax = ax[1],fmt='g'); #annot=True to annotate cells\n",
    "ax[0].set_xlabel('Predicted labels');\n",
    "ax[0].set_ylabel('True labels');\n",
    "ax[0].xaxis.set_ticklabels(['ham', 'spam']);\n",
    "ax[0].yaxis.set_ticklabels(['ham', 'spam']);\n",
    "ax[0].set_title('MultinomialNB\\nResults before Parameter Tuning')\n",
    "\n",
    "ax[1].set_xlabel('Predicted labels');\n",
    "ax[1].set_ylabel('True labels');\n",
    "ax[1].xaxis.set_ticklabels(['ham', 'spam']);\n",
    "ax[1].yaxis.set_ticklabels(['ham', 'spam']);\n",
    "ax[1].set_title('MultinomialNB\\nResults After Parameter Tuning')\n"
   ]
  },
  {
   "cell_type": "markdown",
   "metadata": {},
   "source": [
    "Add the other features to our features matrix."
   ]
  },
  {
   "cell_type": "code",
   "execution_count": 48,
   "metadata": {},
   "outputs": [
    {
     "name": "stdout",
     "output_type": "stream",
     "text": [
      "<class 'pandas.core.frame.DataFrame'>\n",
      "RangeIndex: 5572 entries, 0 to 5571\n",
      "Data columns (total 7 columns):\n",
      "v1               5572 non-null int64\n",
      "v2               5572 non-null object\n",
      "NoDigits5        5572 non-null int64\n",
      "length           5572 non-null int64\n",
      "NoOfPunc         5572 non-null int64\n",
      "NumberOfWords    5572 non-null int64\n",
      "SlangWords       5572 non-null int64\n",
      "dtypes: int64(6), object(1)\n",
      "memory usage: 304.8+ KB\n"
     ]
    }
   ],
   "source": [
    "train.info()"
   ]
  },
  {
   "cell_type": "code",
   "execution_count": 49,
   "metadata": {},
   "outputs": [
    {
     "name": "stderr",
     "output_type": "stream",
     "text": [
      "E:\\Anaconda3\\lib\\site-packages\\ipykernel_launcher.py:1: FutureWarning: Method .as_matrix will be removed in a future version. Use .values instead.\n",
      "  \"\"\"Entry point for launching an IPython kernel.\n",
      "E:\\Anaconda3\\lib\\site-packages\\ipykernel_launcher.py:4: FutureWarning: Method .as_matrix will be removed in a future version. Use .values instead.\n",
      "  after removing the cwd from sys.path.\n",
      "E:\\Anaconda3\\lib\\site-packages\\ipykernel_launcher.py:7: FutureWarning: Method .as_matrix will be removed in a future version. Use .values instead.\n",
      "  import sys\n",
      "E:\\Anaconda3\\lib\\site-packages\\ipykernel_launcher.py:10: FutureWarning: Method .as_matrix will be removed in a future version. Use .values instead.\n",
      "  # Remove the CWD from sys.path while we load stuff.\n",
      "E:\\Anaconda3\\lib\\site-packages\\ipykernel_launcher.py:13: FutureWarning: Method .as_matrix will be removed in a future version. Use .values instead.\n",
      "  del sys.path[0]\n"
     ]
    },
    {
     "data": {
      "text/plain": [
       "(5572, 7249)"
      ]
     },
     "execution_count": 49,
     "metadata": {},
     "output_type": "execute_result"
    }
   ],
   "source": [
    "lf = train['NoDigits5'].as_matrix()\n",
    "newfeat = np.hstack((features.todense(),lf[:, None]))\n",
    "\n",
    "lf = train['length'].as_matrix()\n",
    "newfeat = np.hstack((newfeat,lf[:, None]))\n",
    "\n",
    "lf = train['NoOfPunc'].as_matrix()\n",
    "newfeat = np.hstack((newfeat,lf[:, None]))\n",
    "\n",
    "lf = train['NumberOfWords'].as_matrix()\n",
    "newfeat = np.hstack((newfeat,lf[:, None]))\n",
    "\n",
    "lf = train['SlangWords'].as_matrix()\n",
    "newfeat = np.hstack((newfeat,lf[:, None]))\n",
    "\n",
    "newfeat.shape"
   ]
  },
  {
   "cell_type": "markdown",
   "metadata": {},
   "source": [
    "Now that new features are added, train our model again."
   ]
  },
  {
   "cell_type": "code",
   "execution_count": 50,
   "metadata": {},
   "outputs": [
    {
     "name": "stdout",
     "output_type": "stream",
     "text": [
      "               Classifier  Final Accuracy\n",
      "0  RandomForestClassifier        0.977578\n",
      "1  DecisionTreeClassifier        0.979372\n",
      "2           MultinomialNB        0.991031\n",
      "3     OneVsRestClassifier        0.986547\n"
     ]
    }
   ],
   "source": [
    "table2 = pd.DataFrame(columns=['Classifier','Final Accuracy'])\n",
    "max=0\n",
    "predBest=0\n",
    "for cls in classifiers:       \n",
    "    x_train, x_test, y_train, y_test = model_selection.train_test_split(newfeat, train['v1'], random_state=123, test_size=0.2)\n",
    "            \n",
    "    clf = cls.fit(x_train,y_train)\n",
    "    pred4 = clf.predict(x_test)\n",
    "    score = accuracy_score(y_test,pred4)\n",
    "    if score > max:\n",
    "        max = score\n",
    "        predBest=pred4\n",
    "    table2 = table2.append({'Classifier':cls.__class__.__name__,'Final Accuracy': score},ignore_index=True)\n",
    "print(table2)"
   ]
  },
  {
   "cell_type": "code",
   "execution_count": 51,
   "metadata": {},
   "outputs": [
    {
     "data": {
      "text/plain": [
       "0.9910313901345291"
      ]
     },
     "execution_count": 51,
     "metadata": {},
     "output_type": "execute_result"
    }
   ],
   "source": [
    "accuracy_score(y_test,predBest)"
   ]
  },
  {
   "cell_type": "code",
   "execution_count": 52,
   "metadata": {},
   "outputs": [
    {
     "data": {
      "text/plain": [
       "Text(0.5, 1.0, 'MultinomialNB\\nResults after additional features')"
      ]
     },
     "execution_count": 52,
     "metadata": {},
     "output_type": "execute_result"
    },
    {
     "data": {
      "image/png": "[encoded data removed]",
      "text/plain": [
       "<Figure size 1008x360 with 4 Axes>"
      ]
     },
     "metadata": {
      "needs_background": "light"
     },
     "output_type": "display_data"
    }
   ],
   "source": [
    "cm3 = confusion_matrix(y_test, predBest)\n",
    "\n",
    "fig, ax =plt.subplots(1,2,figsize=(14,5))\n",
    "sns.heatmap(cm2, annot=True, ax = ax[0],fmt='g'); #annot=True to annotate cells\n",
    "sns.heatmap(cm3, annot=True, ax = ax[1],fmt='g'); #annot=True to annotate cells\n",
    "ax[0].set_xlabel('Predicted labels');\n",
    "ax[0].set_ylabel('True labels');\n",
    "ax[0].xaxis.set_ticklabels(['ham', 'spam']);\n",
    "ax[0].yaxis.set_ticklabels(['ham', 'spam']);\n",
    "ax[0].set_title('MultinomialNB\\nResults before additional features')\n",
    "\n",
    "ax[1].set_xlabel('Predicted labels');\n",
    "ax[1].set_ylabel('True labels');\n",
    "ax[1].xaxis.set_ticklabels(['ham', 'spam']);\n",
    "ax[1].yaxis.set_ticklabels(['ham', 'spam']);\n",
    "ax[1].set_title('MultinomialNB\\nResults after additional features')\n"
   ]
  },
  {
   "cell_type": "markdown",
   "metadata": {},
   "source": [
    "### Conclusion"
   ]
  },
  {
   "cell_type": "markdown",
   "metadata": {},
   "source": [
    "Naive Bayes classifier(MultinomialNB) with Count Vectorizer gives highest accuracy score.\n",
    "\n",
    "Ensemble Learning didn't improve accuracy.\n",
    "\n",
    "Parameter tuning didn't improve accuracy. It made some changes in True Positive ,True Negative etc. score.\n",
    "Including additional 5 features to training improves accuracy slightly.\n",
    "Both of these operations have positive and negative sides. For example the latter have better True Positive score, but less False Negative score. Though after parameter tuning and using extra features. we get the highest score between them."
   ]
  }
 ],
 "metadata": {
  "kernelspec": {
   "display_name": "Python 3",
   "language": "python",
   "name": "python3"
  },
  "language_info": {
   "codemirror_mode": {
    "name": "ipython",
    "version": 3
   },
   "file_extension": ".py",
   "mimetype": "text/x-python",
   "name": "python",
   "nbconvert_exporter": "python",
   "pygments_lexer": "ipython3",
   "version": "3.7.3"
  }
 },
 "nbformat": 4,
 "nbformat_minor": 2
}
